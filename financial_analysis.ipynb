# Financial Analysis Notebook
# Comprehensive stock analysis and portfolio management

import pandas as pd
import numpy as np
import matplotlib.pyplot as plt
import seaborn as sns
import yfinance as yf

# Set style
plt.style.use('seaborn-v0_8')
sns.set_palette("husl")

print("🚀 Financial Analysis Toolkit Loaded!")

# Download multiple stocks
tickers = ["AAPL", "GOOGL", "MSFT", "TSLA", "AMZN"]
start_date = "2023-01-01"
end_date = "2024-01-01"

print("📥 Downloading stock data...")
data = yf.download(tickers, start=start_date, end=end_date)['Adj Close']

# Calculate returns
returns = data.pct_change()
cumulative_returns = (1 + returns).cumprod()

# Plot performance
plt.figure(figsize=(12, 6))
for ticker in tickers:
    plt.plot(cumulative_returns.index, cumulative_returns[ticker], label=ticker, linewidth=2)

plt.title('Stock Cumulative Returns Comparison', fontsize=16, fontweight='bold')
plt.ylabel('Cumulative Returns', fontsize=12)
plt.xlabel('Date', fontsize=12)
plt.legend()
plt.grid(True, alpha=0.3)
plt.savefig('stock_comparison.png', dpi=300, bbox_inches='tight')
plt.show()

# Risk Analysis
print("📊 Risk Analysis:")
volatility = returns.std() * np.sqrt(252)
print("Annual Volatility:")
print(volatility.round(4))

# Portfolio Analysis (Equal Weight)
weights = np.array([0.2, 0.2, 0.2, 0.2, 0.2])  # Equal weighting
portfolio_returns = (returns * weights).sum(axis=1)
portfolio_cumulative = (1 + portfolio_returns).cumprod()

print(f"🎯 Portfolio Final Return: {portfolio_cumulative.iloc[-1]:.2%}")
